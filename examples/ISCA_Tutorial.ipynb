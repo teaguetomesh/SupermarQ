{
 "cells": [
  {
   "cell_type": "markdown",
   "id": "7de87d78-d78a-43b0-943b-486c0d68cd03",
   "metadata": {},
   "source": [
    "# SupermarQ"
   ]
  },
  {
   "cell_type": "code",
   "execution_count": 1,
   "id": "9e17eb9f-8e64-4234-a725-32eace202be4",
   "metadata": {},
   "outputs": [],
   "source": [
    "import supermarq\n",
    "import cirq_superstaq\n",
    "import cirq"
   ]
  },
  {
   "cell_type": "markdown",
   "id": "cba40867-5ebd-4a9f-ae02-1a03f18f04af",
   "metadata": {},
   "source": [
    "## Setup\n",
    "SupermarQ is built atop the `cirq_superstaq` framework. This means that most of the\n",
    "details necessary for submitting circuits to various backends can be subsumed\n",
    "by this package and SupermarQ can offer a simple, clean interface to the user.\n",
    "\n",
    "### Service Initialization\n",
    "The first thing we will need is a `cirq_superstaq.Service` which will allow us\n",
    "to enter our Super.tech api keys as well as any IBM access tokens we may have\n",
    "available separately."
   ]
  },
  {
   "cell_type": "code",
   "execution_count": 2,
   "id": "a8f827dc-d77b-46be-8af6-11d892e936be",
   "metadata": {},
   "outputs": [],
   "source": [
    "superstaq_api_key = \"ya29.a0ARrdaM8HavRWyhBsDOD4qbFqgHtts3FvQOVXlY8GserucshNNfb28eRFrpyrSxGsVpps7f51t5jX5EULVsycYqVglWTuBRWUpyt8Ew0Lt056WQgyatriJDwY7ZS5KoBtn6ZNtgLULoFFz9JHffb3OvelTJaEKA\"\n",
    "ibm_token = \"70c3bf3be7eed9265577858ab058697602b7b831f742556d83594f3655fcd192de2160c2469f3432f1ac54263eb8eb38bf7b4d10519eaf2f420f72e0e3ec7f72\""
   ]
  },
  {
   "cell_type": "code",
   "execution_count": 8,
   "id": "7396c7fb-9131-4f08-9613-ccd854a46208",
   "metadata": {},
   "outputs": [
    {
     "name": "stdout",
     "output_type": "stream",
     "text": [
      "$374.55\n",
      "{'compile-only': ['aqt_keysight_qpu', 'sandia_qscout_qpu', 'neutral_atom_qpu', 'hqs_lt-s1-apival_qpu', 'hqs_lt-s1_simulator', 'hqs_lt-s1_qpu', 'hqs_lt-s2_qpu'], 'compile-and-run': ['ibmq_qasm_simulator', 'ibmq_armonk_qpu', 'ibmq_santiago_qpu', 'ibmq_bogota_qpu', 'ibmq_lima_qpu', 'ibmq_belem_qpu', 'ibmq_quito_qpu', 'ibmq_statevector_simulator', 'ibmq_mps_simulator', 'ibmq_extended-stabilizer_simulator', 'ibmq_stabilizer_simulator', 'ibmq_manila_qpu', 'ibmq_montreal_qpu', 'ibmq_toronto_qpu', 'ibmq_mumbai_qpu', 'ibmq_guadalupe_qpu', 'ibmq_brooklyn_qpu', 'ibmq_jakarta_qpu', 'ibmq_hanoi_qpu', 'ibmq_lagos_qpu', 'ibmq_cairo_qpu', 'ibmq_auckland_qpu', 'ibmq_perth_qpu', 'ibmq_washington_qpu', 'aws_sv1_simulator', 'aws_dm1_simulator', 'rigetti_aspen-m-1_qpu', 'oxford_lucy_qpu', 'aws_tn1_simulator', 'ionq_ion_qpu', 'd-wave_dw-2000q-6_qpu', 'd-wave_advantage-system4.1_qpu', 'aqt_keysight_qpu', 'sandia_qscout_qpu', 'neutral_atom_qpu', 'hqs_lt-s1-apival_qpu', 'hqs_lt-s1_simulator', 'hqs_lt-s1_qpu', 'hqs_lt-s2_qpu']}\n"
     ]
    }
   ],
   "source": [
    "service = cirq_superstaq.Service(\n",
    "    api_key=superstaq_api_key,\n",
    "    verbose=True,\n",
    ")\n",
    "service.ibmq_set_token(ibm_token)\n",
    "print(service.get_balance())\n",
    "print(service.get_backends())"
   ]
  },
  {
   "cell_type": "markdown",
   "id": "16286f65-5f17-489b-add6-01b7694a7cb8",
   "metadata": {},
   "source": [
    "#### Testing that our Service is working properly"
   ]
  },
  {
   "cell_type": "code",
   "execution_count": 11,
   "id": "97e498b5-526a-435a-baac-763ac10cdc03",
   "metadata": {},
   "outputs": [
    {
     "name": "stdout",
     "output_type": "stream",
     "text": [
      "0: ───H───@───M───\n",
      "          │   │\n",
      "1: ───────X───M───\n",
      "We created a job: Queued\n"
     ]
    }
   ],
   "source": [
    "qubits = cirq.LineQubit.range(2)\n",
    "circuit = cirq.Circuit(cirq.H(qubits[0]), cirq.CNOT(qubits[0], qubits[1]), cirq.measure(*qubits))\n",
    "print(circuit)\n",
    "\n",
    "job = service.create_job(circuit=circuit, repetitions=100, target=\"ibmq_santiago_qpu\")\n",
    "print(\"We created a job:\", job.status())"
   ]
  },
  {
   "cell_type": "code",
   "execution_count": 13,
   "id": "ced84c7e-fd36-48ee-be5e-c77a317b47da",
   "metadata": {},
   "outputs": [
    {
     "data": {
      "text/plain": [
       "'Queued'"
      ]
     },
     "execution_count": 13,
     "metadata": {},
     "output_type": "execute_result"
    }
   ],
   "source": [
    "job.status()"
   ]
  },
  {
   "cell_type": "markdown",
   "id": "635624b3-233b-4571-929b-503e00abfe23",
   "metadata": {},
   "source": [
    "## Benchmark creation"
   ]
  },
  {
   "cell_type": "code",
   "execution_count": 20,
   "id": "452ea458-427d-421d-87d9-b8b49251fa0f",
   "metadata": {},
   "outputs": [
    {
     "data": {
      "text/plain": [
       "\u001b[0;31mInit signature:\u001b[0m \u001b[0msupermarq\u001b[0m\u001b[0;34m.\u001b[0m\u001b[0mmermin_bell\u001b[0m\u001b[0;34m.\u001b[0m\u001b[0mMerminBell\u001b[0m\u001b[0;34m(\u001b[0m\u001b[0mnum_qubits\u001b[0m\u001b[0;34m:\u001b[0m \u001b[0mint\u001b[0m\u001b[0;34m)\u001b[0m \u001b[0;34m->\u001b[0m \u001b[0;32mNone\u001b[0m\u001b[0;34m\u001b[0m\u001b[0;34m\u001b[0m\u001b[0m\n",
       "\u001b[0;31mDocstring:\u001b[0m     \n",
       "The Mermin-Bell benchmark is a test of a quantum computer's ability\n",
       "to exploit purely quantum phenomemna such as superposition and entanglement.\n",
       "It is based on the famous Bell-inequality tests of locality.\n",
       "\n",
       "Performance is based on a QPU's ability to prepare a GHZ state and measure\n",
       "the Mermin operator.\n",
       "\u001b[0;31mFile:\u001b[0m           ~/Workspace/SuperTech/SupermarQ/supermarq/benchmarks/mermin_bell.py\n",
       "\u001b[0;31mType:\u001b[0m           type\n",
       "\u001b[0;31mSubclasses:\u001b[0m     \n"
      ]
     },
     "metadata": {},
     "output_type": "display_data"
    }
   ],
   "source": [
    "nq = 3\n",
    "?supermarq.mermin_bell.MerminBell\n",
    "merminbell = supermarq.benchmarks.mermin_bell.MerminBell(nq)"
   ]
  },
  {
   "cell_type": "code",
   "execution_count": 27,
   "id": "ce60a05d-7b08-466b-ab50-2ed6b7fbd18e",
   "metadata": {},
   "outputs": [
    {
     "name": "stdout",
     "output_type": "stream",
     "text": [
      "<supermarq.benchmarks.mermin_bell.MerminBell object at 0x7fa4a336cac0>\n"
     ]
    },
    {
     "data": {
      "text/plain": [
       "\u001b[0;31mSignature:\u001b[0m \u001b[0mmerminbell\u001b[0m\u001b[0;34m.\u001b[0m\u001b[0mcircuit\u001b[0m\u001b[0;34m(\u001b[0m\u001b[0;34m)\u001b[0m \u001b[0;34m->\u001b[0m \u001b[0mcirq\u001b[0m\u001b[0;34m.\u001b[0m\u001b[0mcircuits\u001b[0m\u001b[0;34m.\u001b[0m\u001b[0mcircuit\u001b[0m\u001b[0;34m.\u001b[0m\u001b[0mCircuit\u001b[0m\u001b[0;34m\u001b[0m\u001b[0;34m\u001b[0m\u001b[0m\n",
       "\u001b[0;31mDocstring:\u001b[0m Returns the quantum circuit corresponding to the current benchmark parameters.\n",
       "\u001b[0;31mFile:\u001b[0m      ~/Workspace/SuperTech/SupermarQ/supermarq/benchmarks/mermin_bell.py\n",
       "\u001b[0;31mType:\u001b[0m      method\n"
      ]
     },
     "metadata": {},
     "output_type": "display_data"
    }
   ],
   "source": [
    "print(merminbell)\n",
    "?merminbell.circuit"
   ]
  },
  {
   "cell_type": "code",
   "execution_count": 28,
   "id": "61f87640-e067-4dd5-971b-b9b6fe819286",
   "metadata": {},
   "outputs": [
    {
     "name": "stdout",
     "output_type": "stream",
     "text": [
      "0: ───Rx(-0.5π)───@───────────@───────X───X───S───@───H───────M───\n",
      "                  │           │       │   │       │           │\n",
      "1: ───────────────X───@───H───┼───@───┼───@───────@───S───H───M───\n",
      "                      │       │   │   │                       │\n",
      "2: ───────────────────X───H───X───X───@───S───H───────────────M───\n"
     ]
    }
   ],
   "source": [
    "merminbell_circuit = merminbell.circuit()\n",
    "print(merminbell_circuit)"
   ]
  },
  {
   "cell_type": "markdown",
   "id": "994bb7bb-92ee-481e-81a5-ca2ae82a7c26",
   "metadata": {},
   "source": [
    "## Feature vector generation"
   ]
  },
  {
   "cell_type": "code",
   "execution_count": null,
   "id": "70f3e841-5aaa-4889-93e5-dad7a6b41187",
   "metadata": {},
   "outputs": [],
   "source": []
  },
  {
   "cell_type": "code",
   "execution_count": null,
   "id": "f2ba0f44-c4ee-4212-ab57-2ca9400f0211",
   "metadata": {},
   "outputs": [],
   "source": []
  },
  {
   "cell_type": "code",
   "execution_count": null,
   "id": "b2a0fb46-2ac7-4d94-b44f-ae08c998716a",
   "metadata": {},
   "outputs": [],
   "source": []
  },
  {
   "cell_type": "code",
   "execution_count": 25,
   "id": "aac1d6c5-8750-456f-a0fb-a0b459d5d362",
   "metadata": {},
   "outputs": [
    {
     "data": {
      "text/plain": [
       "\u001b[0;31mSignature:\u001b[0m \u001b[0mmerminbell\u001b[0m\u001b[0;34m.\u001b[0m\u001b[0mscore\u001b[0m\u001b[0;34m(\u001b[0m\u001b[0mcounts\u001b[0m\u001b[0;34m:\u001b[0m \u001b[0mcollections\u001b[0m\u001b[0;34m.\u001b[0m\u001b[0mCounter\u001b[0m\u001b[0;34m)\u001b[0m \u001b[0;34m->\u001b[0m \u001b[0mfloat\u001b[0m\u001b[0;34m\u001b[0m\u001b[0;34m\u001b[0m\u001b[0m\n",
       "\u001b[0;31mDocstring:\u001b[0m\n",
       "Compute the score for the N-qubit Mermin-Bell benchmark.\n",
       "\n",
       "This function assumes the regular big endian ordering of bitstring results\n",
       "\u001b[0;31mFile:\u001b[0m      ~/Workspace/SuperTech/SupermarQ/supermarq/benchmarks/mermin_bell.py\n",
       "\u001b[0;31mType:\u001b[0m      method\n"
      ]
     },
     "metadata": {},
     "output_type": "display_data"
    }
   ],
   "source": [
    "?merminbell.score"
   ]
  },
  {
   "cell_type": "code",
   "execution_count": null,
   "id": "3e260377-27fa-49e2-80a1-f3206f4b1950",
   "metadata": {},
   "outputs": [],
   "source": []
  }
 ],
 "metadata": {
  "kernelspec": {
   "display_name": "Python 3 (ipykernel)",
   "language": "python",
   "name": "python3"
  },
  "language_info": {
   "codemirror_mode": {
    "name": "ipython",
    "version": 3
   },
   "file_extension": ".py",
   "mimetype": "text/x-python",
   "name": "python",
   "nbconvert_exporter": "python",
   "pygments_lexer": "ipython3",
   "version": "3.8.11"
  }
 },
 "nbformat": 4,
 "nbformat_minor": 5
}
